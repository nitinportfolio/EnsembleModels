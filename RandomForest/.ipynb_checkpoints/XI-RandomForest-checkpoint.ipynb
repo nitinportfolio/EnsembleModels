{
 "cells": [
  {
   "cell_type": "markdown",
   "id": "58379359",
   "metadata": {},
   "source": [
    "# Random Forest\n",
    "- Random - Type of Bagging - Bootstrapped Aggregation\n",
    "- Forest  - Group of Decision Trees\n",
    "- Bootstrapping - Bootstrapping in the context of machine learning refers to the technique of resampling the dataset with replacement to create multiple subsets, known as bootstrap samples. Each bootstrap sample is of the same size as the original dataset, and because it's created with replacement, some data points from the original dataset may appear multiple times in a single bootstrap sample, while others may not appear at all.\n",
    "- For Bootstraping we can use - Row sampling, column sampling or combined sampling\n",
    "- OUtput from each decision tree - If its classification then we take the mode of most frequent out or majority count from each tree. If its regression then we take the mean of all trees\n",
    "- Few algorithms that have Low Bias & High Variance – Fully grown Decision Tree, SVM, & KNN – with less number of neighbors\n",
    "- High Bias & Low Variance – Linear Regression & sometimes Logistic Regression\n",
    "- Random Forest - Keep the Bias Low & bring Variance also Low.\n",
    "- Random Forest - Keep the Bias Low & bring Variance also Low"
   ]
  },
  {
   "cell_type": "code",
   "execution_count": 1,
   "id": "8163e540",
   "metadata": {},
   "outputs": [],
   "source": [
    "# Sampling rows\n",
    "def sample_rows(df, percent):\n",
    "    return df.sample(int(percent*df.shape[0]), replace = True)"
   ]
  },
  {
   "cell_type": "code",
   "execution_count": 5,
   "id": "4f98fb13",
   "metadata": {},
   "outputs": [],
   "source": [
    "# Featrue sampling\n",
    "def sample_features(df, percent):\n",
    "    cols = random.sample(df.columns.tolist()[:-1],int(percent*(df.shape[1]-1)))\n",
    "    new_df = df[cols]\n",
    "    new_df[\"target\"] = df[\"target\"]\n",
    "    return new_df"
   ]
  },
  {
   "cell_type": "code",
   "execution_count": 6,
   "id": "62332a42",
   "metadata": {},
   "outputs": [],
   "source": [
    "def sample_combined(df, row_percent, col_percent):\n",
    "    new_df = sample_rows(df, row_percent)\n",
    "    return sample_features(new_df, col_percent)"
   ]
  },
  {
   "cell_type": "code",
   "execution_count": null,
   "id": "d1741123",
   "metadata": {},
   "outputs": [],
   "source": []
  }
 ],
 "metadata": {
  "kernelspec": {
   "display_name": "Python 3 (ipykernel)",
   "language": "python",
   "name": "python3"
  },
  "language_info": {
   "codemirror_mode": {
    "name": "ipython",
    "version": 3
   },
   "file_extension": ".py",
   "mimetype": "text/x-python",
   "name": "python",
   "nbconvert_exporter": "python",
   "pygments_lexer": "ipython3",
   "version": "3.10.9"
  }
 },
 "nbformat": 4,
 "nbformat_minor": 5
}
